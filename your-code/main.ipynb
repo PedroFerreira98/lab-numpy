{
 "cells": [
  {
   "cell_type": "markdown",
   "metadata": {},
   "source": [
    "# Intrduction to NumPy\n",
    "\n",
    "\n",
    "#### 1. Import NumPy under the name np."
   ]
  },
  {
   "cell_type": "code",
   "execution_count": 1,
   "metadata": {},
   "outputs": [],
   "source": [
    "# your code here\n",
    "import numpy as np\n"
   ]
  },
  {
   "cell_type": "markdown",
   "metadata": {},
   "source": [
    "#### 2. Print your NumPy version."
   ]
  },
  {
   "cell_type": "code",
   "execution_count": 2,
   "metadata": {},
   "outputs": [
    {
     "name": "stdout",
     "output_type": "stream",
     "text": [
      "1.18.5\n"
     ]
    }
   ],
   "source": [
    "# your code here\n",
    "print(np.__version__)"
   ]
  },
  {
   "cell_type": "markdown",
   "metadata": {},
   "source": [
    "#### 3. Generate a 2x3x5 3-dimensional array with random values. Assign the array to variable *a*.\n",
    "**Challenge**: there are at least three easy ways that use numpy to generate random arrays. How many ways can you find?"
   ]
  },
  {
   "cell_type": "code",
   "execution_count": 3,
   "metadata": {},
   "outputs": [
    {
     "data": {
      "text/plain": [
       "array([[[0.99605642, 0.54417451, 0.18911758, 0.56203691, 0.7373075 ],\n",
       "        [0.81781253, 0.53512341, 0.86186086, 0.97283091, 0.64104628],\n",
       "        [0.31040381, 0.71879796, 0.2345406 , 0.14233455, 0.70530322]],\n",
       "\n",
       "       [[0.57272876, 0.31509497, 0.34904004, 0.88567127, 0.15011593],\n",
       "        [0.45628197, 0.52623055, 0.89562213, 0.35825978, 0.47346038],\n",
       "        [0.8350635 , 0.64935671, 0.47174505, 0.59558726, 0.72257498]]])"
      ]
     },
     "execution_count": 3,
     "metadata": {},
     "output_type": "execute_result"
    }
   ],
   "source": [
    "# Method 1\n",
    "a= np.random.rand(2,3,5)\n",
    "a"
   ]
  },
  {
   "cell_type": "code",
   "execution_count": 5,
   "metadata": {},
   "outputs": [
    {
     "data": {
      "text/plain": [
       "array([[[40, 28, 57, 79, 16],\n",
       "        [38, 87, 88,  4, 17],\n",
       "        [52, 91, 16, 52, 66]],\n",
       "\n",
       "       [[15, 60, 70, 83, 68],\n",
       "        [74, 81, 73, 79, 78],\n",
       "        [42, 79, 28, 45, 99]]])"
      ]
     },
     "execution_count": 5,
     "metadata": {},
     "output_type": "execute_result"
    }
   ],
   "source": [
    "# Method 2\n",
    "a = np.random.randint(100, size=(2,3, 5))\n",
    "a"
   ]
  },
  {
   "cell_type": "code",
   "execution_count": 6,
   "metadata": {},
   "outputs": [
    {
     "data": {
      "text/plain": [
       "array([[[-2.78857586e+00, -2.41321308e+00,  2.29950125e+00,\n",
       "         -3.52116193e-01,  6.55351759e-01],\n",
       "        [ 6.15919275e-01, -6.59435656e-01, -5.93113245e-01,\n",
       "         -1.13461113e+00, -9.54392008e-02],\n",
       "        [ 1.01496524e+00, -4.14402671e-01,  1.20862280e+00,\n",
       "          7.59538026e-01, -1.17211196e-01]],\n",
       "\n",
       "       [[-6.28709771e-01,  6.13822753e-01,  5.05669255e-01,\n",
       "         -6.79594566e-02, -1.60725681e-01],\n",
       "        [ 1.32725398e+00,  2.10415642e-01, -7.34514895e-01,\n",
       "         -1.43052284e+00, -1.41857660e-01],\n",
       "        [ 2.65420186e-03,  2.12041229e+00, -4.90381489e-01,\n",
       "          3.57890533e-01,  1.47141329e-01]]])"
      ]
     },
     "execution_count": 6,
     "metadata": {},
     "output_type": "execute_result"
    }
   ],
   "source": [
    "# Method 3\n",
    "a = np.random.randn(2,3,5)\n",
    "a"
   ]
  },
  {
   "cell_type": "markdown",
   "metadata": {},
   "source": [
    "#### 4. Print *a*.\n"
   ]
  },
  {
   "cell_type": "code",
   "execution_count": 7,
   "metadata": {},
   "outputs": [
    {
     "data": {
      "text/plain": [
       "array([[[-2.78857586e+00, -2.41321308e+00,  2.29950125e+00,\n",
       "         -3.52116193e-01,  6.55351759e-01],\n",
       "        [ 6.15919275e-01, -6.59435656e-01, -5.93113245e-01,\n",
       "         -1.13461113e+00, -9.54392008e-02],\n",
       "        [ 1.01496524e+00, -4.14402671e-01,  1.20862280e+00,\n",
       "          7.59538026e-01, -1.17211196e-01]],\n",
       "\n",
       "       [[-6.28709771e-01,  6.13822753e-01,  5.05669255e-01,\n",
       "         -6.79594566e-02, -1.60725681e-01],\n",
       "        [ 1.32725398e+00,  2.10415642e-01, -7.34514895e-01,\n",
       "         -1.43052284e+00, -1.41857660e-01],\n",
       "        [ 2.65420186e-03,  2.12041229e+00, -4.90381489e-01,\n",
       "          3.57890533e-01,  1.47141329e-01]]])"
      ]
     },
     "execution_count": 7,
     "metadata": {},
     "output_type": "execute_result"
    }
   ],
   "source": [
    "# your code here\n",
    "a"
   ]
  },
  {
   "cell_type": "markdown",
   "metadata": {},
   "source": [
    "#### 5. Create a 5x2x3 3-dimensional array with all values equaling 1. Assign the array to variable *b*."
   ]
  },
  {
   "cell_type": "code",
   "execution_count": 8,
   "metadata": {},
   "outputs": [],
   "source": [
    "# your code here\n",
    "b = np.random.randint(1,2,(5,2,3)) \n",
    "\n"
   ]
  },
  {
   "cell_type": "markdown",
   "metadata": {},
   "source": [
    "#### 6. Print *b*.\n"
   ]
  },
  {
   "cell_type": "code",
   "execution_count": 9,
   "metadata": {},
   "outputs": [
    {
     "data": {
      "text/plain": [
       "array([[[1, 1, 1],\n",
       "        [1, 1, 1]],\n",
       "\n",
       "       [[1, 1, 1],\n",
       "        [1, 1, 1]],\n",
       "\n",
       "       [[1, 1, 1],\n",
       "        [1, 1, 1]],\n",
       "\n",
       "       [[1, 1, 1],\n",
       "        [1, 1, 1]],\n",
       "\n",
       "       [[1, 1, 1],\n",
       "        [1, 1, 1]]])"
      ]
     },
     "execution_count": 9,
     "metadata": {},
     "output_type": "execute_result"
    }
   ],
   "source": [
    "# your code here\n",
    "b\n"
   ]
  },
  {
   "cell_type": "markdown",
   "metadata": {},
   "source": [
    "#### 7. Do *a* and *b* have the same size? How do you prove that in Python code?"
   ]
  },
  {
   "cell_type": "code",
   "execution_count": 10,
   "metadata": {},
   "outputs": [
    {
     "name": "stdout",
     "output_type": "stream",
     "text": [
      "Shpe of a:  (2, 3, 5) ,and size:  30\n",
      "Shpe of b:  (5, 2, 3) ,and size:  30\n"
     ]
    }
   ],
   "source": [
    "# your code here\n",
    "print(\"Shpe of a: \",a.shape,\",and size: \",a.size)\n",
    "print(\"Shpe of b: \",b.shape,\",and size: \",b.size)\n",
    "\n",
    "# They do have the same size"
   ]
  },
  {
   "cell_type": "markdown",
   "metadata": {},
   "source": [
    "#### 8. Are you able to add *a* and *b*? Why or why not?\n"
   ]
  },
  {
   "cell_type": "code",
   "execution_count": 11,
   "metadata": {},
   "outputs": [
    {
     "ename": "ValueError",
     "evalue": "operands could not be broadcast together with shapes (2,3,5) (5,2,3) ",
     "output_type": "error",
     "traceback": [
      "\u001b[1;31m---------------------------------------------------------------------------\u001b[0m",
      "\u001b[1;31mValueError\u001b[0m                                Traceback (most recent call last)",
      "\u001b[1;32m<ipython-input-11-16c2c4f041c9>\u001b[0m in \u001b[0;36m<module>\u001b[1;34m\u001b[0m\n\u001b[0;32m      1\u001b[0m \u001b[1;31m# your answer here\u001b[0m\u001b[1;33m\u001b[0m\u001b[1;33m\u001b[0m\u001b[1;33m\u001b[0m\u001b[0m\n\u001b[0;32m      2\u001b[0m \u001b[1;33m\u001b[0m\u001b[0m\n\u001b[1;32m----> 3\u001b[1;33m \u001b[0mnp\u001b[0m\u001b[1;33m.\u001b[0m\u001b[0madd\u001b[0m\u001b[1;33m(\u001b[0m\u001b[0ma\u001b[0m\u001b[1;33m,\u001b[0m\u001b[0mb\u001b[0m\u001b[1;33m)\u001b[0m\u001b[1;33m\u001b[0m\u001b[1;33m\u001b[0m\u001b[0m\n\u001b[0m\u001b[0;32m      4\u001b[0m \u001b[1;33m\u001b[0m\u001b[0m\n\u001b[0;32m      5\u001b[0m \u001b[1;31m# It's not possible because their shapes are different\u001b[0m\u001b[1;33m\u001b[0m\u001b[1;33m\u001b[0m\u001b[1;33m\u001b[0m\u001b[0m\n",
      "\u001b[1;31mValueError\u001b[0m: operands could not be broadcast together with shapes (2,3,5) (5,2,3) "
     ]
    }
   ],
   "source": [
    "# your answer here\n",
    "\n",
    "np.add(a,b)\n",
    "\n",
    "# It's not possible because their shapes are different"
   ]
  },
  {
   "cell_type": "markdown",
   "metadata": {},
   "source": [
    "#### 9. Transpose *b* so that it has the same structure of *a* (i.e. become a 2x3x5 array). Assign the transposed array to variable *c*."
   ]
  },
  {
   "cell_type": "code",
   "execution_count": 12,
   "metadata": {},
   "outputs": [],
   "source": [
    "# your code here\n",
    "c=b.reshape(2,3,5)\n"
   ]
  },
  {
   "cell_type": "markdown",
   "metadata": {},
   "source": [
    "#### 10. Try to add *a* and *c*. Now it should work. Assign the sum to variable *d*. But why does it work now?"
   ]
  },
  {
   "cell_type": "code",
   "execution_count": 29,
   "metadata": {},
   "outputs": [],
   "source": [
    "# your code/answer here\n",
    "d = np.add(a,c)\n",
    "# Now they have the same shape"
   ]
  },
  {
   "cell_type": "markdown",
   "metadata": {},
   "source": [
    "#### 11. Print *a* and *d*. Notice the difference and relation of the two array in terms of the values? Explain."
   ]
  },
  {
   "cell_type": "code",
   "execution_count": 30,
   "metadata": {},
   "outputs": [
    {
     "name": "stdout",
     "output_type": "stream",
     "text": [
      "[[[-2.78857586e+00 -2.41321308e+00  2.29950125e+00 -3.52116193e-01\n",
      "    6.55351759e-01]\n",
      "  [ 6.15919275e-01 -6.59435656e-01 -5.93113245e-01 -1.13461113e+00\n",
      "   -9.54392008e-02]\n",
      "  [ 1.01496524e+00 -4.14402671e-01  1.20862280e+00  7.59538026e-01\n",
      "   -1.17211196e-01]]\n",
      "\n",
      " [[-6.28709771e-01  6.13822753e-01  5.05669255e-01 -6.79594566e-02\n",
      "   -1.60725681e-01]\n",
      "  [ 1.32725398e+00  2.10415642e-01 -7.34514895e-01 -1.43052284e+00\n",
      "   -1.41857660e-01]\n",
      "  [ 2.65420186e-03  2.12041229e+00 -4.90381489e-01  3.57890533e-01\n",
      "    1.47141329e-01]]]\n",
      "\n",
      "Separator\n",
      "\n",
      "[[[-1.78857586 -1.41321308  3.29950125  0.64788381  1.65535176]\n",
      "  [ 1.61591927  0.34056434  0.40688676 -0.13461113  0.9045608 ]\n",
      "  [ 2.01496524  0.58559733  2.2086228   1.75953803  0.8827888 ]]\n",
      "\n",
      " [[ 0.37129023  1.61382275  1.50566926  0.93204054  0.83927432]\n",
      "  [ 2.32725398  1.21041564  0.2654851  -0.43052284  0.85814234]\n",
      "  [ 1.0026542   3.12041229  0.50961851  1.35789053  1.14714133]]]\n"
     ]
    }
   ],
   "source": [
    "# your code/answer here\n",
    "print(a)\n",
    "print(\"\\nSeparator\\n\")\n",
    "print(d)\n",
    "\n",
    "# Each value was added 1"
   ]
  },
  {
   "cell_type": "markdown",
   "metadata": {},
   "source": [
    "#### 12. Multiply *a* and *c*. Assign the result to *e*."
   ]
  },
  {
   "cell_type": "code",
   "execution_count": 15,
   "metadata": {},
   "outputs": [],
   "source": [
    "# your code here\n",
    "e = np.multiply(a,c)"
   ]
  },
  {
   "cell_type": "markdown",
   "metadata": {},
   "source": [
    "#### 13. Does *e* equal to *a*? Why or why not?\n"
   ]
  },
  {
   "cell_type": "code",
   "execution_count": 16,
   "metadata": {},
   "outputs": [
    {
     "data": {
      "text/plain": [
       "array([[[ True,  True,  True,  True,  True],\n",
       "        [ True,  True,  True,  True,  True],\n",
       "        [ True,  True,  True,  True,  True]],\n",
       "\n",
       "       [[ True,  True,  True,  True,  True],\n",
       "        [ True,  True,  True,  True,  True],\n",
       "        [ True,  True,  True,  True,  True]]])"
      ]
     },
     "execution_count": 16,
     "metadata": {},
     "output_type": "execute_result"
    }
   ],
   "source": [
    "# your code/answer here\n",
    "a==e\n",
    "\n",
    "# Yes, we multiplied a with an array of 1 , so its going to be exatcly the same"
   ]
  },
  {
   "cell_type": "markdown",
   "metadata": {},
   "source": [
    "#### 14. Identify the max, min, and mean values in *d*. Assign those values to variables *d_max*, *d_min* and *d_mean*."
   ]
  },
  {
   "cell_type": "code",
   "execution_count": 17,
   "metadata": {},
   "outputs": [],
   "source": [
    "# your code here\n",
    "d_max=np.max(d)\n",
    "d_min=np.min(d)\n",
    "d_mean=np.mean(d)\n",
    "\n"
   ]
  },
  {
   "cell_type": "markdown",
   "metadata": {},
   "source": [
    "#### 15. Now we want to label the values in *d*. First create an empty array *f* with the same shape (i.e. 2x3x5) as *d* using `np.empty`.\n"
   ]
  },
  {
   "cell_type": "code",
   "execution_count": 27,
   "metadata": {},
   "outputs": [],
   "source": [
    "# your code here\n",
    "\n",
    "f=np.empty((2,3,5))\n"
   ]
  },
  {
   "cell_type": "markdown",
   "metadata": {},
   "source": [
    "#### 16. Populate the values in *f*. \n",
    "\n",
    "For each value in *d*, if it's larger than *d_min* but smaller than *d_mean*, assign 25 to the corresponding value in *f*. If a value in *d* is larger than *d_mean* but smaller than *d_max*, assign 75 to the corresponding value in *f*. If a value equals to *d_mean*, assign 50 to the corresponding value in *f*. Assign 0 to the corresponding value(s) in *f* for *d_min* in *d*. Assign 100 to the corresponding value(s) in *f* for *d_max* in *d*. In the end, f should have only the following values: 0, 25, 50, 75, and 100.\n",
    "\n",
    "**Note**: you don't have to use Numpy in this question."
   ]
  },
  {
   "cell_type": "code",
   "execution_count": 40,
   "metadata": {},
   "outputs": [],
   "source": [
    "# your code here\n",
    "a=0\n",
    "b=0\n",
    "c=0\n",
    "\n",
    "for array in d:\n",
    "    for array1 in array:\n",
    "        for number in array1:\n",
    "            if ((number > d_min) and (number < d_mean)):\n",
    "                f[a,b,c]=25\n",
    "            elif ((number > d_mean) and (number < d_max)):\n",
    "                f[a,b,c]=75\n",
    "            elif number == d_mean:\n",
    "                f[a,b,c]=50\n",
    "            elif number == d_min:\n",
    "                f[a,b,c]=0\n",
    "            elif number ==d_max:\n",
    "                f[a,b,c]=100\n",
    "            c+=1\n",
    "        b+=1\n",
    "        c=0\n",
    "    a+=1\n",
    "    b=0\n",
    "\n",
    "    "
   ]
  },
  {
   "cell_type": "markdown",
   "metadata": {},
   "source": [
    "#### 17. Print *d* and *f*. Do you have your expected *f*?\n",
    "For instance, if your *d* is:\n",
    "```python\n",
    "[[[1.85836099, 1.67064465, 1.62576044, 1.40243961, 1.88454931],\n",
    "[1.75354326, 1.69403643, 1.36729252, 1.61415071, 1.12104981],\n",
    "[1.72201435, 1.1862918 , 1.87078449, 1.7726778 , 1.88180042]],\n",
    "[[1.44747908, 1.31673383, 1.02000951, 1.52218947, 1.97066381],\n",
    "[1.79129243, 1.74983003, 1.96028037, 1.85166831, 1.65450881],\n",
    "[1.18068344, 1.9587381 , 1.00656599, 1.93402165, 1.73514584]]]\n",
    "```\n",
    "Your *f* should be:\n",
    "```python\n",
    "[[[ 75.,  75.,  75.,  25.,  75.],\n",
    "[ 75.,  75.,  25.,  25.,  25.],\n",
    "[ 75.,  25.,  75.,  75.,  75.]],\n",
    "[[ 25.,  25.,  25.,  25., 100.],\n",
    "[ 75.,  75.,  75.,  75.,  75.],\n",
    "[ 25.,  75.,   0.,  75.,  75.]]]\n",
    "```"
   ]
  },
  {
   "cell_type": "code",
   "execution_count": 41,
   "metadata": {},
   "outputs": [
    {
     "name": "stdout",
     "output_type": "stream",
     "text": [
      "[[[-1.78857586 -1.41321308  3.29950125  0.64788381  1.65535176]\n",
      "  [ 1.61591927  0.34056434  0.40688676 -0.13461113  0.9045608 ]\n",
      "  [ 2.01496524  0.58559733  2.2086228   1.75953803  0.8827888 ]]\n",
      "\n",
      " [[ 0.37129023  1.61382275  1.50566926  0.93204054  0.83927432]\n",
      "  [ 2.32725398  1.21041564  0.2654851  -0.43052284  0.85814234]\n",
      "  [ 1.0026542   3.12041229  0.50961851  1.35789053  1.14714133]]]\n",
      "\n",
      " separator \n",
      "\n",
      "[[[  0.  25. 100.  25.  75.]\n",
      "  [ 75.  25.  25.  25.  25.]\n",
      "  [ 75.  25.  75.  75.  25.]]\n",
      "\n",
      " [[ 25.  75.  75.  25.  25.]\n",
      "  [ 75.  75.  25.  25.  25.]\n",
      "  [ 75.  75.  25.  75.  75.]]]\n"
     ]
    }
   ],
   "source": [
    "#your code here\n",
    "print(d)\n",
    "print(\"\\n separator \\n\")\n",
    "print(f)"
   ]
  },
  {
   "cell_type": "markdown",
   "metadata": {},
   "source": [
    "#### 18. Bonus question: instead of using numbers (i.e. 0, 25, 50, 75, and 100), use string values  (\"A\", \"B\", \"C\", \"D\", and \"E\") to label the array elements. For the example above, the expected result is:\n",
    "\n",
    "```python\n",
    "[[[ 'D',  'D',  'D',  'B',  'D'],\n",
    "[ 'D',  'D',  'B',  'B',  'B'],\n",
    "[ 'D',  'B',  'D',  'D',  'D']],\n",
    "[[ 'B',  'B',  'B',  'B',  'E'],\n",
    "[ 'D',  'D',  'D',  'D',  'D'],\n",
    "[ 'B',  'D',   'A',  'D', 'D']]]\n",
    "```\n",
    "**Note**: you don't have to use Numpy in this question."
   ]
  },
  {
   "cell_type": "code",
   "execution_count": 50,
   "metadata": {},
   "outputs": [
    {
     "data": {
      "text/plain": [
       "array([[['A', 'B', 'E', 'B', 'D'],\n",
       "        ['D', 'B', 'B', 'B', 'B'],\n",
       "        ['D', 'B', 'D', 'D', 'B']],\n",
       "\n",
       "       [['B', 'D', 'D', 'B', 'B'],\n",
       "        ['D', 'D', 'B', 'B', 'B'],\n",
       "        ['D', 'D', 'B', 'D', 'D']]], dtype='<U4')"
      ]
     },
     "execution_count": 50,
     "metadata": {},
     "output_type": "execute_result"
    }
   ],
   "source": [
    "# your code here\n",
    "a=0\n",
    "b=0\n",
    "c=0\n",
    "\n",
    "f = f.astype(str)\n",
    "\n",
    "\n",
    "for array in d:\n",
    "    for array1 in array:\n",
    "        for number in array1:\n",
    "            if ((number > d_min) and (number < d_mean)):\n",
    "                f[a,b,c]='B'\n",
    "            elif ((number > d_mean) and (number < d_max)):\n",
    "                f[a,b,c]='D'\n",
    "            elif number == d_mean:\n",
    "                f[a,b,c]='C'\n",
    "            elif number == d_min:\n",
    "                f[a,b,c]=\"A\"\n",
    "            elif number ==d_max:\n",
    "                f[a,b,c]='E'\n",
    "            c+=1\n",
    "        b+=1\n",
    "        c=0\n",
    "    a+=1\n",
    "    b=0\n",
    "\n",
    "f"
   ]
  },
  {
   "cell_type": "code",
   "execution_count": null,
   "metadata": {},
   "outputs": [],
   "source": []
  }
 ],
 "metadata": {
  "kernelspec": {
   "display_name": "Python 3",
   "language": "python",
   "name": "python3"
  },
  "language_info": {
   "codemirror_mode": {
    "name": "ipython",
    "version": 3
   },
   "file_extension": ".py",
   "mimetype": "text/x-python",
   "name": "python",
   "nbconvert_exporter": "python",
   "pygments_lexer": "ipython3",
   "version": "3.8.3"
  }
 },
 "nbformat": 4,
 "nbformat_minor": 2
}
